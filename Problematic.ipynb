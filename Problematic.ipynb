{
 "cells": [
  {
   "cell_type": "code",
   "execution_count": 1,
   "metadata": {},
   "outputs": [],
   "source": [
    "import Mikado"
   ]
  },
  {
   "cell_type": "code",
   "execution_count": 2,
   "metadata": {},
   "outputs": [],
   "source": [
    "import pysam"
   ]
  },
  {
   "cell_type": "code",
   "execution_count": 37,
   "metadata": {},
   "outputs": [],
   "source": [
    "fa = pysam.FastaFile(\"Mikado/tests/padding_test.rev_compl.fa\")\n",
    "orig = pysam.FastaFile(\"Mikado/tests/padding_test.fa\")"
   ]
  },
  {
   "cell_type": "code",
   "execution_count": 38,
   "metadata": {},
   "outputs": [],
   "source": [
    "bed = Mikado.parsers.bed12.BED12(\"44\t1\t61560\tID=mikado.44G2.2;coding=True;phase=0\t85.0\t+\t70\t61341\t0\t22\t140,119,137,89,218,261,240,141,156,112,160,165,132,72,126,75,168,105,201,87,114,309\t0,19637,20638,24654,26061,27238,28273,28974,29420,30474,32004,33291,34188,35466,42587,43055,44730,46583,50405,53556,59448,61250\",\n",
    "                                fasta_index=orig)"
   ]
  },
  {
   "cell_type": "code",
   "execution_count": 39,
   "metadata": {},
   "outputs": [
    {
     "data": {
      "text/plain": [
       "True"
      ]
     },
     "execution_count": 39,
     "metadata": {},
     "output_type": "execute_result"
    }
   ],
   "source": [
    "bed.coding"
   ]
  },
  {
   "cell_type": "code",
   "execution_count": 6,
   "metadata": {},
   "outputs": [
    {
     "data": {
      "text/plain": [
       "[(2, 141),\n",
       " (19639, 19757),\n",
       " (20640, 20776),\n",
       " (24656, 24744),\n",
       " (26063, 26280),\n",
       " (27240, 27500),\n",
       " (28275, 28514),\n",
       " (28976, 29116),\n",
       " (29422, 29577),\n",
       " (30476, 30587),\n",
       " (32006, 32165),\n",
       " (33293, 33457),\n",
       " (34190, 34321),\n",
       " (35468, 35539),\n",
       " (42589, 42714),\n",
       " (43057, 43131),\n",
       " (44732, 44899),\n",
       " (46585, 46689),\n",
       " (50407, 50607),\n",
       " (53558, 53644),\n",
       " (59450, 59563),\n",
       " (61252, 61560)]"
      ]
     },
     "execution_count": 6,
     "metadata": {},
     "output_type": "execute_result"
    }
   ],
   "source": [
    "bed.blocks"
   ]
  },
  {
   "cell_type": "code",
   "execution_count": 7,
   "metadata": {},
   "outputs": [
    {
     "data": {
      "text/plain": [
       "67118"
      ]
     },
     "execution_count": 7,
     "metadata": {},
     "output_type": "execute_result"
    }
   ],
   "source": [
    "fa.lengths[0]"
   ]
  },
  {
   "cell_type": "code",
   "execution_count": 21,
   "metadata": {},
   "outputs": [
    {
     "data": {
      "text/plain": [
       "5558"
      ]
     },
     "execution_count": 21,
     "metadata": {},
     "output_type": "execute_result"
    }
   ],
   "source": [
    "fa.lengths[0] - bed.end"
   ]
  },
  {
   "cell_type": "code",
   "execution_count": 9,
   "metadata": {},
   "outputs": [
    {
     "data": {
      "text/plain": [
       "67117"
      ]
     },
     "execution_count": 9,
     "metadata": {},
     "output_type": "execute_result"
    }
   ],
   "source": [
    "fa.lengths[0] - bed.start + 1"
   ]
  },
  {
   "cell_type": "code",
   "execution_count": 10,
   "metadata": {},
   "outputs": [],
   "source": []
  },
  {
   "cell_type": "code",
   "execution_count": 11,
   "metadata": {},
   "outputs": [],
   "source": [
    "import Bio.Seq, Bio.SeqIO"
   ]
  },
  {
   "cell_type": "code",
   "execution_count": 15,
   "metadata": {},
   "outputs": [
    {
     "data": {
      "text/plain": [
       "61559"
      ]
     },
     "execution_count": 15,
     "metadata": {},
     "output_type": "execute_result"
    }
   ],
   "source": [
    "len(orig.fetch(\"44\", 1, 61560))"
   ]
  },
  {
   "cell_type": "code",
   "execution_count": 24,
   "metadata": {},
   "outputs": [
    {
     "data": {
      "text/plain": [
       "True"
      ]
     },
     "execution_count": 24,
     "metadata": {},
     "output_type": "execute_result"
    }
   ],
   "source": [
    "Bio.Seq.Seq(fa.fetch(\"44\", 5558, 67117)).reverse_complement() == orig.fetch(\"44\", 1, 61560)"
   ]
  },
  {
   "cell_type": "code",
   "execution_count": 63,
   "metadata": {},
   "outputs": [],
   "source": [
    "with open(\"Mikado/tests/padding_test.bed12\") as bedu, open(\"Mikado/tests/padding_test.rev_compl.bed12\", \"wt\") as out:\n",
    "    for line in bedu:\n",
    "        fields = line.rstrip().split(\"\\t\")\n",
    "        bed = Mikado.parsers.bed12.BED12(fields)\n",
    "        new_line = [fields[0], fa.lengths[0] - bed.end, fa.lengths[0] - bed.start + 1, fields[3], fields[4], \"-\",\n",
    "                   fa.lengths[0] - bed.thick_end + 1, fa.lengths[0] - bed.thick_start, \"0\",\n",
    "                    bed.block_count, \",\".join([str(_) for _ in reversed(bed.block_sizes)])]\n",
    "        bstarts = [0]\n",
    "        import numpy as np\n",
    "        for bpred, bstart in zip(reversed(bed.block_starts[1:]), reversed(bed.block_starts[:-1])):\n",
    "            bstarts.append(bpred - bstart)\n",
    "        bstarts = np.array(bstarts)\n",
    "        bstarts = bstarts.cumsum()\n",
    "        new_line.append(\",\".join([str(_) for _ in bstarts]))\n",
    "        print(*new_line, sep=\"\\t\", file=out)"
   ]
  },
  {
   "cell_type": "code",
   "execution_count": 49,
   "metadata": {},
   "outputs": [
    {
     "data": {
      "text/plain": [
       "61271"
      ]
     },
     "execution_count": 49,
     "metadata": {},
     "output_type": "execute_result"
    }
   ],
   "source": [
    "new_bed.cds_len"
   ]
  },
  {
   "cell_type": "code",
   "execution_count": 50,
   "metadata": {},
   "outputs": [
    {
     "data": {
      "text/plain": [
       "61271"
      ]
     },
     "execution_count": 50,
     "metadata": {},
     "output_type": "execute_result"
    }
   ],
   "source": [
    "bed.cds_len"
   ]
  },
  {
   "cell_type": "code",
   "execution_count": 65,
   "metadata": {},
   "outputs": [
    {
     "data": {
      "text/plain": [
       "140"
      ]
     },
     "execution_count": 65,
     "metadata": {},
     "output_type": "execute_result"
    }
   ],
   "source": [
    "len(orig.fetch(\"44\", 1, 141))"
   ]
  },
  {
   "cell_type": "code",
   "execution_count": 70,
   "metadata": {},
   "outputs": [
    {
     "data": {
      "text/plain": [
       "'TTTCGCGTCCACGATCAAGATAGAACAAGCTGGAACCGTGCTTTATTTAAGTCGTTGAACTGATCTTTGAACCGGTGTCTTACTGCTTTTGTTTCCCCGTTACATGTATGTAGACTGACACCAGACTTCCCCATGTACTT'"
      ]
     },
     "execution_count": 70,
     "metadata": {},
     "output_type": "execute_result"
    }
   ],
   "source": [
    "str(Bio.Seq.Seq(fa.fetch(\"44\", 66687, 66827)).reverse_complement())"
   ]
  },
  {
   "cell_type": "code",
   "execution_count": 67,
   "metadata": {},
   "outputs": [
    {
     "data": {
      "text/plain": [
       "'CGGCGGTGGTGGCGGCTGCGACCTGGGCGAGCTCAGGAGTGTGACCGGCCGGCCTCGGGGCCGCGGTGGATGGTTTCTAAGATGATCATTGAAAACTTCGAGGCACTCAAGTCCTGGCTCAGCAAGACCCTCGAGCCCAT'"
      ]
     },
     "execution_count": 67,
     "metadata": {},
     "output_type": "execute_result"
    }
   ],
   "source": [
    "orig.fetch(\"44\", 1, 141)"
   ]
  },
  {
   "cell_type": "code",
   "execution_count": 71,
   "metadata": {},
   "outputs": [
    {
     "data": {
      "text/plain": [
       "[67118]"
      ]
     },
     "execution_count": 71,
     "metadata": {},
     "output_type": "execute_result"
    }
   ],
   "source": [
    "fa.lengths"
   ]
  },
  {
   "cell_type": "code",
   "execution_count": 72,
   "metadata": {},
   "outputs": [
    {
     "data": {
      "text/plain": [
       "[(2, 141),\n",
       " (19639, 19757),\n",
       " (20640, 20776),\n",
       " (24656, 24744),\n",
       " (26063, 26280),\n",
       " (27240, 27500),\n",
       " (28275, 28514),\n",
       " (28976, 29116),\n",
       " (29437, 29577),\n",
       " (30476, 30587),\n",
       " (32006, 32165),\n",
       " (33293, 33457),\n",
       " (34190, 34321),\n",
       " (35468, 35539),\n",
       " (42589, 42714),\n",
       " (43057, 43131),\n",
       " (44732, 44899),\n",
       " (46585, 46689),\n",
       " (50407, 50607),\n",
       " (53558, 53644),\n",
       " (59450, 59563),\n",
       " (61252, 62437),\n",
       " (63054, 63112),\n",
       " (66689, 67118)]"
      ]
     },
     "execution_count": 72,
     "metadata": {},
     "output_type": "execute_result"
    }
   ],
   "source": [
    "bed.blocks"
   ]
  },
  {
   "cell_type": "code",
   "execution_count": 76,
   "metadata": {},
   "outputs": [
    {
     "name": "stdout",
     "output_type": "stream",
     "text": [
      "67118\n",
      "(66977, 67117)\n",
      "(47361, 47480)\n",
      "(46342, 46479)\n",
      "(42374, 42463)\n",
      "(40838, 41056)\n",
      "(39618, 39879)\n",
      "(38604, 38844)\n",
      "(38002, 38143)\n",
      "(37541, 37682)\n",
      "(36531, 36643)\n",
      "(34953, 35113)\n",
      "(33661, 33826)\n",
      "(32797, 32929)\n",
      "(31579, 31651)\n",
      "(24404, 24530)\n",
      "(23987, 24062)\n",
      "(22219, 22387)\n",
      "(20429, 20534)\n",
      "(16511, 16712)\n",
      "(13474, 13561)\n",
      "(7555, 7669)\n",
      "(4681, 5867)\n",
      "(4006, 4065)\n",
      "(0, 430)\n"
     ]
    }
   ],
   "source": [
    "print(fa.lengths[0])\n",
    "for block in bed.blocks:\n",
    "    print((fa.lengths[0] - block[1], fa.lengths[0] - block[0] + 1))"
   ]
  },
  {
   "cell_type": "code",
   "execution_count": null,
   "metadata": {},
   "outputs": [],
   "source": []
  }
 ],
 "metadata": {
  "kernelspec": {
   "display_name": "Python 3",
   "language": "python",
   "name": "python3"
  },
  "language_info": {
   "codemirror_mode": {
    "name": "ipython",
    "version": 3
   },
   "file_extension": ".py",
   "mimetype": "text/x-python",
   "name": "python",
   "nbconvert_exporter": "python",
   "pygments_lexer": "ipython3",
   "version": "3.6.8"
  }
 },
 "nbformat": 4,
 "nbformat_minor": 2
}
